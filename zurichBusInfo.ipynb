{
 "cells": [
  {
   "cell_type": "code",
   "execution_count": 68,
   "id": "8ca5955f-1579-461e-8bb0-213dfe719318",
   "metadata": {},
   "outputs": [],
   "source": [
    "import pandas as pd\n",
    "import polars as pl\n",
    "import numpy as np\n",
    "import glob\n",
    "import os\n",
    "import time\n",
    "import psutil\n",
    "import gc\n",
    "from pyspark.sql import SparkSession\n",
    "from pyspark.sql.functions import col\n",
    "from pyspark.sql.functions import input_file_name, regexp_extract\n",
    "import seaborn as sns\n",
    "import matplotlib.pyplot as plt\n",
    "from sklearn.cluster import KMeans\n",
    "from sklearn.decomposition import PCA"
   ]
  },
  {
   "cell_type": "code",
   "execution_count": 2,
   "id": "310c35f1-54df-4037-8ebf-9b127311e850",
   "metadata": {},
   "outputs": [],
   "source": [
    "def loadCSVToDataFrame(path, prefix: str = \"defined_prefix\") -> pd.DataFrame:\n",
    "    \"\"\"\n",
    "    Load multiple CSV files with a specific prefix from a fixed folder\n",
    "    into a single pandas DataFrame, with memory/time tracking and filename column.\n",
    "\n",
    "    Args:\n",
    "        path (str): Path to folder containing CSV files.\n",
    "        prefix (str): Prefix of the filenames to match.\n",
    "\n",
    "    Returns:\n",
    "        pd.DataFrame: Concatenated DataFrame of all matched CSV files.\n",
    "    \"\"\"\n",
    "    start_time = time.time()\n",
    "    process = psutil.Process(os.getpid())\n",
    "    mem_before = process.memory_info().rss / (1024 ** 2)  # MB\n",
    "\n",
    "    # File matching pattern\n",
    "    file_pattern = os.path.join(path, f\"{prefix}*.csv\")\n",
    "    csv_files = glob.glob(file_pattern)\n",
    "\n",
    "    if not csv_files:\n",
    "        raise FileNotFoundError(f\"No files found matching pattern: {file_pattern}\")\n",
    "\n",
    "    # Load and tag each file with filename\n",
    "    df_list = []\n",
    "    for file in csv_files:\n",
    "        temp_df = pd.read_csv(file, engine='pyarrow')\n",
    "        temp_df[\"source_file\"] = os.path.splitext(os.path.basename(file))[0]  # Add filename column\n",
    "        df_list.append(temp_df)\n",
    "\n",
    "    combined_df = pd.concat(df_list, ignore_index=True)\n",
    "\n",
    "    mem_after = process.memory_info().rss / (1024 ** 2)  # MB\n",
    "    elapsed_time = time.time() - start_time\n",
    "\n",
    "    print(f\"✅ Loaded {len(csv_files)} files into DataFrame\")\n",
    "    print(f\"⏱ Load time: {elapsed_time:.2f} seconds\")\n",
    "    print(f\"💾 Memory before: {mem_before:.2f} MB\")\n",
    "    print(f\"💾 Memory after:  {mem_after:.2f} MB\")\n",
    "    print(f\"📊 DataFrame shape: {combined_df.shape}\")\n",
    "\n",
    "    return combined_df"
   ]
  },
  {
   "cell_type": "code",
   "execution_count": 3,
   "id": "b56b1b10-9176-4145-9753-70609ef43cf7",
   "metadata": {},
   "outputs": [],
   "source": [
    "#Due to a smaller data size, this function is not in use as Spark takes longer for data load operations\n",
    "\n",
    "def readCombineCSVSafe(folder_path, prefix, max_memory_fraction=0.1):\n",
    "    \"\"\"\n",
    "    Reads CSVs into a Spark or pandas DataFrame, measures load time,\n",
    "    estimates memory usage, and adds a 'source_file' column with the file name.\n",
    "\n",
    "    Parameters:\n",
    "        folder_path (str): Path to folder containing CSV files.\n",
    "        prefix (str): Prefix of files to match (e.g., \"ACY\").\n",
    "        max_memory_fraction (float): Max fraction of available RAM for pandas conversion.\n",
    "\n",
    "    Returns:\n",
    "        tuple: (DataFrame, load_time_seconds)\n",
    "    \"\"\"\n",
    "    spark = SparkSession.builder \\\n",
    "        .appName(\"Timed CSV Loader with Memory Check + Filename\") \\\n",
    "        .master(\"local[*]\") \\\n",
    "        .getOrCreate()\n",
    "\n",
    "    file_pattern = f\"{folder_path}/{prefix}*.csv\"\n",
    "\n",
    "    start_time = time.time()\n",
    "\n",
    "    # Read CSVs and add source file path column\n",
    "    df_spark = spark.read.csv(file_pattern, header=True, inferSchema=True) \\\n",
    "        .withColumn(\"source_file_path\", input_file_name())\n",
    "\n",
    "    # Extract only the file name from the path\n",
    "    df_spark = df_spark.withColumn(\n",
    "        \"source_file\",\n",
    "        regexp_extract(\"source_file_path\", r\"([^/\\\\]+$)\", 1)\n",
    "    )\n",
    "\n",
    "    total_rows = df_spark.count()\n",
    "    total_columns = len(df_spark.columns)\n",
    "\n",
    "    # Estimate dataset memory size\n",
    "    sample_pdf = df_spark.limit(1000).toPandas()\n",
    "    sample_size_bytes = sample_pdf.memory_usage(deep=True).sum()\n",
    "    estimated_size_bytes = (sample_size_bytes / len(sample_pdf)) * total_rows\n",
    "\n",
    "    available_mem_bytes = psutil.virtual_memory().available\n",
    "    safe_limit_bytes = available_mem_bytes * max_memory_fraction\n",
    "\n",
    "    load_time = time.time() - start_time\n",
    "\n",
    "    print(f\"⏱ Load time: {load_time:.2f} seconds\")\n",
    "    print(f\"📊 Estimated dataset size: {estimated_size_bytes / (1024**2):.2f} MB\")\n",
    "    print(f\"💾 Available memory limit: {safe_limit_bytes / (1024**2):.2f} MB\")\n",
    "\n",
    "    if estimated_size_bytes <= safe_limit_bytes:\n",
    "        print(f\"✅ Converting to pandas DataFrame ({total_rows} rows, {total_columns} columns)\")\n",
    "        return df_spark.toPandas(), load_time\n",
    "    else:\n",
    "        print(f\"⚠ Too large for pandas. Returning Spark DataFrame.\")\n",
    "        return df_spark, load_time\n"
   ]
  },
  {
   "cell_type": "code",
   "execution_count": 4,
   "id": "470bc85e-4660-4b0c-bf78-bd66501adaca",
   "metadata": {},
   "outputs": [],
   "source": [
    "def ram_usage():\n",
    "    \"\"\"\n",
    "    Returns current RAM usage (used/total) in MB and percentage.\n",
    "    \"\"\"\n",
    "    mem = psutil.virtual_memory()\n",
    "    used_mb = mem.used / (1024 ** 2)\n",
    "    total_mb = mem.total / (1024 ** 2)\n",
    "    percent = mem.percent\n",
    "    \n",
    "    print(f\"RAM Used: {used_mb:.2f} MB / {total_mb:.2f} MB ({percent}%)\")\n",
    "    #return mem.percent  # Returning percentage for programmatic use"
   ]
  },
  {
   "cell_type": "code",
   "execution_count": 5,
   "id": "bfe6dfba-c724-4b1d-8ded-7193a4955a01",
   "metadata": {},
   "outputs": [],
   "source": [
    "#Functions created to separately analyze the different bus datasets\n",
    "#This will be used at a later stage to analyze individual buses\n",
    "\n",
    "def checkDataFrameStructure(df1, df2):\n",
    "    \"\"\"\n",
    "        Check if DataFrames have same column names in same order.\n",
    "        Simply return a boolean value if the column names match.\n",
    "    \"\"\"\n",
    "    return list(df1.columns) == list(df2.columns)\n",
    "\n",
    "def mergeDataFrames(df1, df2):\n",
    "    \"\"\"\n",
    "        If same structure, concatenate and delete originals.\n",
    "        Ensure to also delete the original dataframes \n",
    "    \"\"\"\n",
    "    if checkDataFrameStructure(df1, df2):\n",
    "        merged_df = pd.concat([df1, df2], ignore_index=True)\n",
    "        del df1\n",
    "        del df2\n",
    "        print(\"DataFrames had same structure — merged successfully.\")\n",
    "        return merged_df\n",
    "    else:\n",
    "        print(\"DataFrames do not have the same structure.\")\n",
    "        return None"
   ]
  },
  {
   "cell_type": "code",
   "execution_count": 6,
   "id": "7863f907-3a03-4a25-8a54-8791dd965c1d",
   "metadata": {},
   "outputs": [],
   "source": [
    "def missingPercentage(df, extra_missing_values=None):\n",
    "    \"\"\"\n",
    "    Calculates missing value percentage for each column.\n",
    "    \n",
    "    Parameters:\n",
    "    - df: pandas DataFrame\n",
    "    - extra_missing_values: list of values to treat as missing \n",
    "      (e.g., ['-', 'NA', 'N/A', ''])\n",
    "    \n",
    "    Returns:\n",
    "    DataFrame with columns:\n",
    "    - 'missing_count'\n",
    "    - 'missing_percent'\n",
    "    \"\"\"\n",
    "    df_copy = df.copy()\n",
    "\n",
    "    # Replace extra placeholders with NaN\n",
    "    if extra_missing_values is not None:\n",
    "        df_copy.replace(extra_missing_values, np.nan, inplace=True)\n",
    "\n",
    "    total_rows = len(df_copy)\n",
    "    missing_count = df_copy.isnull().sum()\n",
    "    missing_percent = (missing_count / total_rows) * 100\n",
    "\n",
    "    result = pd.DataFrame({\n",
    "        'missing_count': missing_count,\n",
    "        'missing_percent': missing_percent\n",
    "    }).sort_values(by='missing_percent', ascending=False)\n",
    "\n",
    "    return result"
   ]
  },
  {
   "cell_type": "code",
   "execution_count": 7,
   "id": "d0bc51f7-414e-47d6-bf45-31b4d707b588",
   "metadata": {},
   "outputs": [],
   "source": [
    "def reduceMemoryUsage(df):\n",
    "    start_mem = df.memory_usage().sum() / 1024**2\n",
    "    print(f\"Initial size: {start_mem:.2f} MB\")\n",
    "    \n",
    "    # Store column info\n",
    "    col_info = []\n",
    "\n",
    "    for col in df.columns:\n",
    "        col_type = df[col].dtype\n",
    "        c_min, c_max = None, None  # default if not numeric\n",
    "\n",
    "        if col_type != object and not isinstance(col_type, pd.CategoricalDtype):\n",
    "            c_min, c_max = df[col].min(), df[col].max()\n",
    "            \n",
    "            if str(col_type).startswith(\"int\"):\n",
    "                if c_min >= 0:\n",
    "                    if c_max < 255:\n",
    "                        df[col] = df[col].astype(\"uint8\")\n",
    "                    elif c_max < 65535:\n",
    "                        df[col] = df[col].astype(\"uint16\")\n",
    "                    elif c_max < 4294967295:\n",
    "                        df[col] = df[col].astype(\"uint32\")\n",
    "                    else:\n",
    "                        df[col] = df[col].astype(\"uint64\")\n",
    "                else:\n",
    "                    if np.iinfo(\"int8\").min <= c_min <= np.iinfo(\"int8\").max:\n",
    "                        df[col] = df[col].astype(\"int8\")\n",
    "                    elif np.iinfo(\"int16\").min <= c_min <= np.iinfo(\"int16\").max:\n",
    "                        df[col] = df[col].astype(\"int16\")\n",
    "                    elif np.iinfo(\"int32\").min <= c_min <= np.iinfo(\"int32\").max:\n",
    "                        df[col] = df[col].astype(\"int32\")\n",
    "                    else:\n",
    "                        df[col] = df[col].astype(\"int64\")\n",
    "                        \n",
    "            elif str(col_type).startswith(\"float\"):\n",
    "                df[col] = pd.to_numeric(df[col], downcast=\"float\")\n",
    "                c_min, c_max = df[col].min(), df[col].max()  # recalc after downcast\n",
    "                \n",
    "        else:\n",
    "            df[col] = df[col].astype(\"category\")\n",
    "        \n",
    "        # Append column info\n",
    "        col_info.append({\n",
    "            \"column\": col,\n",
    "            \"dtype\": df[col].dtype,\n",
    "            \"min\": c_min,\n",
    "            \"max\": c_max\n",
    "        })\n",
    "            \n",
    "    end_mem = df.memory_usage().sum() / 1024**2\n",
    "    print(f\"Reduced size: {end_mem:.2f} MB ({100 * (start_mem - end_mem)/start_mem:.1f}% reduction)\")\n",
    "\n",
    "    # Convert collected info into DataFrame\n",
    "    col_summary = pd.DataFrame(col_info)\n",
    "\n",
    "    return df, col_summary\n"
   ]
  },
  {
   "cell_type": "code",
   "execution_count": 8,
   "id": "621daa69-49e6-46aa-8bb7-8396ee305aed",
   "metadata": {},
   "outputs": [],
   "source": [
    "def getNonNumericCols(df):\n",
    "    \"\"\"\n",
    "    Returns a list of column names in the DataFrame\n",
    "    that are not numeric (includes object, category, bool, datetime, etc.).\n",
    "    \"\"\"\n",
    "    non_numeric_cols = df.select_dtypes(exclude=['number']).columns.tolist()\n",
    "    return non_numeric_cols"
   ]
  },
  {
   "cell_type": "code",
   "execution_count": 9,
   "id": "8166309f-6981-457f-a4a1-239f5ccc7c0f",
   "metadata": {},
   "outputs": [],
   "source": [
    "def removeOutliersIQR(df, column):\n",
    "    \"\"\"\n",
    "    Detects outliers in a DataFrame column using the IQR method \n",
    "    and replaces them with NaN (to allow interpolation later).\n",
    "    \n",
    "    Parameters:\n",
    "        df (pd.DataFrame): Input DataFrame\n",
    "        column (str): Column name to process\n",
    "    \n",
    "    Returns:\n",
    "        pd.DataFrame: DataFrame with outliers replaced by NaN\n",
    "    \"\"\"\n",
    "    # Calculate Q1 and Q3\n",
    "    Q1 = df[column].quantile(0.25)\n",
    "    Q3 = df[column].quantile(0.75)\n",
    "    IQR = Q3 - Q1\n",
    "    \n",
    "    # Define bounds\n",
    "    lower_bound = Q1 - 1.5 * IQR\n",
    "    upper_bound = Q3 + 1.5 * IQR\n",
    "    \n",
    "    # Replace outliers with NaN\n",
    "    df[column] = df[column].where(\n",
    "        (df[column] >= lower_bound) & (df[column] <= upper_bound),\n",
    "        np.nan\n",
    "    )\n",
    "    \n",
    "    return df"
   ]
  },
  {
   "cell_type": "code",
   "execution_count": 10,
   "id": "58f30a79-700b-4434-b3ea-60f9e051c98a",
   "metadata": {},
   "outputs": [],
   "source": [
    "def handleMissingSensorData(df, col, method='auto'):\n",
    "    if method == 'auto':\n",
    "        # Forward-fill short gaps, interpolate medium gaps\n",
    "        df[col] = df[col].ffill(limit=5)  # up to 5 consecutive missing\n",
    "        df[col] = df[col].interpolate(method='linear', limit_direction='both')\n",
    "    elif method == 'ffill':\n",
    "        df[col] = df[col].ffill().bfill()\n",
    "    elif method == 'interpolate':\n",
    "        df[col] = df[col].interpolate(method='linear', limit_direction='both')\n",
    "    return df"
   ]
  },
  {
   "cell_type": "code",
   "execution_count": 11,
   "id": "9301b7b5-80aa-4cba-8ac1-a4e3eee4f629",
   "metadata": {},
   "outputs": [],
   "source": [
    "def reduceDrivingFeatures(df: pd.DataFrame, corr_threshold: float = 0.9) -> pd.DataFrame:\n",
    "    \"\"\"\n",
    "    Reduce odometry/traction/status features by combining redundant ones and\n",
    "    removing highly correlated columns.\n",
    "    \n",
    "    Parameters\n",
    "    ----------\n",
    "    df : pd.DataFrame\n",
    "        Input dataframe with all features.\n",
    "    corr_threshold : float, default=0.9\n",
    "        Threshold for removing correlated features.\n",
    "    \n",
    "    Returns\n",
    "    -------\n",
    "    pd.DataFrame\n",
    "        Reduced dataframe with fewer, more informative features.\n",
    "    \"\"\"\n",
    "    \n",
    "    # --- Domain-driven reduction ---\n",
    "    # Combine wheel speeds into mean and differences\n",
    "    df = df.copy()\n",
    "    \n",
    "    # --- Domain-driven reduction ---\n",
    "    wheel_cols = [\n",
    "        'odometry_wheelSpeed_fl', 'odometry_wheelSpeed_fr',\n",
    "        'odometry_wheelSpeed_ml', 'odometry_wheelSpeed_mr',\n",
    "        'odometry_wheelSpeed_rl', 'odometry_wheelSpeed_rr'\n",
    "    ]\n",
    "    \n",
    "    # Fill NaNs in wheel speeds with 0 (or you can choose another strategy)\n",
    "    df[wheel_cols] = df[wheel_cols].fillna(0)\n",
    "    \n",
    "    # Mean wheel speed\n",
    "    df['wheelSpeed_mean'] = df[wheel_cols].mean(axis=1)\n",
    "    \n",
    "    # Left-right difference\n",
    "    df['wheelSpeed_left_right_diff'] = (\n",
    "        (df['odometry_wheelSpeed_fl'] + df['odometry_wheelSpeed_ml'] + df['odometry_wheelSpeed_rl']) / 3\n",
    "        - (df['odometry_wheelSpeed_fr'] + df['odometry_wheelSpeed_mr'] + df['odometry_wheelSpeed_rr']) / 3\n",
    "    )\n",
    "    \n",
    "    # Combine brake flags into a single categorical feature\n",
    "    df['brake_status'] = (\n",
    "        pd.to_numeric(df['status_haltBrakeIsActive'], errors='coerce').fillna(0).astype(int) +\n",
    "        2 * pd.to_numeric(df['status_parkBrakeIsActive'], errors='coerce').fillna(0).astype(int)\n",
    "        )\n",
    "    # 0 = no brake, 1 = halt brake, 2 = park brake, 3 = both\n",
    "    \n",
    "    # Drop raw features already aggregated\n",
    "    drop_cols = [\n",
    "        'odometry_wheelSpeed_fl', 'odometry_wheelSpeed_fr',\n",
    "        'odometry_wheelSpeed_ml', 'odometry_wheelSpeed_mr',\n",
    "        'odometry_wheelSpeed_rl', 'odometry_wheelSpeed_rr',\n",
    "        'status_haltBrakeIsActive', 'status_parkBrakeIsActive'\n",
    "    ]\n",
    "    df_reduced = df.drop(columns=drop_cols, errors=\"ignore\")\n",
    "\n",
    "    #These features are generalized versions of the metadata. We do not need them for prediction purposes.\n",
    "    drop_generalized = ['drivenDistance', 'energyConsumption']\n",
    "    \n",
    "    df_reduced = df_reduced.drop(columns=drop_generalized, errors=\"ignore\")\n",
    "    \n",
    "    # --- Statistical reduction ---\n",
    "    # Remove highly correlated features\n",
    "    #corr = df_reduced.corr().abs()\n",
    "    #upper = corr.where(~pd.np.tril(pd.np.ones(corr.shape)).astype(bool))  # upper triangle\n",
    "    #to_drop = [column for column in upper.columns if any(upper[column] > corr_threshold)]\n",
    "    \n",
    "    #df_final = df_reduced.drop(columns=to_drop, errors=\"ignore\")\n",
    "    \n",
    "    return df_reduced\n"
   ]
  },
  {
   "cell_type": "code",
   "execution_count": null,
   "id": "1c597909-ef77-4ee8-a4cd-b82c5b809c80",
   "metadata": {},
   "outputs": [],
   "source": [
    "def plotNumericCorrelations(df: pd.DataFrame, corr_threshold: float = 0.9):\n",
    "    \"\"\"\n",
    "    Plot correlation heatmap for numerical features and list highly correlated pairs.\n",
    "\n",
    "    Parameters\n",
    "    ----------\n",
    "    df : pd.DataFrame\n",
    "        Input dataframe with features.\n",
    "    corr_threshold : float, default=0.9\n",
    "        Threshold above which features are considered correlated.\n",
    "\n",
    "    Returns\n",
    "    -------\n",
    "    correlated_pairs : list of tuples\n",
    "        List of correlated feature pairs with correlation above threshold.\n",
    "    \"\"\"\n",
    "    # Select only numeric columns (all int/float types)\n",
    "    numeric_df = df.select_dtypes(include=[np.number])\n",
    "    \n",
    "    # Compute correlation matrix\n",
    "    corr = numeric_df.corr()\n",
    "\n",
    "    # --- Plot heatmap ---\n",
    "    plt.figure(figsize=(10, 8))\n",
    "    plt.imshow(corr, cmap=\"coolwarm\", interpolation=\"nearest\")\n",
    "    plt.colorbar(label=\"Correlation coefficient\")\n",
    "    plt.xticks(range(len(corr.columns)), corr.columns, rotation=90)\n",
    "    plt.yticks(range(len(corr.columns)), corr.columns)\n",
    "    plt.title(\"Numerical Feature Correlation Heatmap\", fontsize=14)\n",
    "    plt.tight_layout()\n",
    "    plt.show()\n",
    "\n",
    "    # --- Extract correlated features ---\n",
    "    correlated_pairs = []\n",
    "    for i in range(len(corr.columns)):\n",
    "        for j in range(i+1, len(corr.columns)):\n",
    "            if abs(corr.iloc[i, j]) > corr_threshold:\n",
    "                correlated_pairs.append((\n",
    "                    corr.columns[i],\n",
    "                    corr.columns[j],\n",
    "                    corr.iloc[i, j]\n",
    "                ))\n",
    "    \n",
    "    return correlated_pairs"
   ]
  },
  {
   "cell_type": "code",
   "execution_count": 70,
   "id": "a380386e-5be6-492f-aa00-f6ea7d2effc8",
   "metadata": {},
   "outputs": [],
   "source": [
    "def condenseMinMaxMean(df: pd.DataFrame, min_col: str, mean_col: str, max_col: str,\n",
    "                          method: str = \"weighted\", weights: tuple = (0.2, 0.6, 0.2), \n",
    "                          lambda_: float = 0.1, new_col: str = \"condensed_feature\"):\n",
    "    \"\"\"\n",
    "    Condense min, mean, max into one variable using different strategies.\n",
    "    \n",
    "    Parameters\n",
    "    ----------\n",
    "    df : pd.DataFrame\n",
    "        Input dataframe.\n",
    "    min_col, mean_col, max_col : str\n",
    "        Column names for min, mean, and max.\n",
    "    method : str, default \"weighted\"\n",
    "        Method to condense features:\n",
    "        - \"weighted\" → weighted average of (min, mean, max).\n",
    "        - \"range_mean\" → mean + lambda * (max - min).\n",
    "        - \"pca\" → first principal component of [min, mean, max].\n",
    "    weights : tuple of length 3, default (0.2, 0.6, 0.2)\n",
    "        Weights for (min, mean, max) when method=\"weighted\".\n",
    "    lambda_ : float, default 0.1\n",
    "        Weight for variability (max - min) when method=\"range_mean\".\n",
    "    new_col : str, default \"condensed_feature\"\n",
    "        Name of the new column.\n",
    "    \n",
    "    Returns\n",
    "    -------\n",
    "    - If method in {\"weighted\", \"range_mean\"}:\n",
    "        pd.DataFrame\n",
    "    - If method == \"pca\":\n",
    "        (pd.DataFrame, PCA object)\n",
    "    \"\"\"\n",
    "    \n",
    "    df_copy = df.copy()\n",
    "    \n",
    "    if method == \"weighted\":\n",
    "        a, b, c = weights\n",
    "        df_copy[new_col] = a * df_copy[min_col] + b * df_copy[mean_col] + c * df_copy[max_col]\n",
    "        return df_copy\n",
    "    \n",
    "    elif method == \"range_mean\":\n",
    "        df_copy[new_col] = df_copy[mean_col] + lambda_ * (df_copy[max_col] - df_copy[min_col])\n",
    "        return df_copy\n",
    "    \n",
    "    elif method == \"pca\":\n",
    "        X = df_copy[[min_col, mean_col, max_col]].values\n",
    "        pca = PCA(n_components=1)\n",
    "        df_copy[new_col] = pca.fit_transform(X)\n",
    "        return df_copy, pca\n",
    "    \n",
    "    else:\n",
    "        raise ValueError(\"method must be 'weighted', 'range_mean', or 'pca'\")"
   ]
  },
  {
   "cell_type": "code",
   "execution_count": 75,
   "id": "f28515d4-0fe0-4d88-875b-1dabc6b0455d",
   "metadata": {},
   "outputs": [],
   "source": [
    "def condenseFeatures(df, feature_prefix, drop_original=True):\n",
    "    \"\"\"\n",
    "    Condense min, mean, max time-series features into a single PCA component \n",
    "    and optionally drop the original columns.\n",
    "    \n",
    "    Parameters\n",
    "    ----------\n",
    "    df : pd.DataFrame\n",
    "        DataFrame containing columns with suffixes '_min', '_mean', '_max'\n",
    "    feature_prefix : str\n",
    "        The prefix of the feature (e.g. 'speed', 'power')\n",
    "    drop_original : bool, default=True\n",
    "        If True, drop the original min/mean/max columns\n",
    "    \n",
    "    Returns\n",
    "    -------\n",
    "    pd.DataFrame\n",
    "        Updated dataframe with the new PCA feature\n",
    "    \"\"\"\n",
    "    cols = [f\"{feature_prefix}_min\", f\"{feature_prefix}_mean\", f\"{feature_prefix}_max\"]\n",
    "\n",
    "    # Drop rows with NaN for PCA calculation\n",
    "    X = df[cols].dropna()\n",
    "\n",
    "    # Fit PCA (1 component)\n",
    "    pca = PCA(n_components=1)\n",
    "    condensed = pca.fit_transform(X)\n",
    "\n",
    "    print(f\"Explained variance ratio for {feature_prefix}: {pca.explained_variance_ratio_[0]:.4f}\")\n",
    "    print(f\"Component weights: {pca.components_[0]} (min, mean, max order)\")\n",
    "\n",
    "    # Assign back into df\n",
    "    df.loc[X.index, f\"{feature_prefix}_pca\"] = condensed.flatten()\n",
    "\n",
    "    # Drop original columns if requested\n",
    "    if drop_original:\n",
    "        df = df.drop(columns=cols)\n",
    "\n",
    "    return df"
   ]
  },
  {
   "cell_type": "code",
   "execution_count": 80,
   "id": "2ee5cfce-4775-4f85-820e-84818fd0f55c",
   "metadata": {},
   "outputs": [],
   "source": [
    "def condenseFeaturesHighVariance(df, feature_set, new_feature_name, drop_original=True, threshold=0.99):\n",
    "    \"\"\"\n",
    "    Condense min, mean, max (or similar correlated features) into a single feature.\n",
    "    \n",
    "    Parameters:\n",
    "        df (pd.DataFrame): Input dataframe\n",
    "        feature_set (list): List of correlated features [min, mean, max]\n",
    "        new_feature_name (str): Name for the condensed feature\n",
    "        drop_original (bool): Whether to drop original features\n",
    "        threshold (float): Variance threshold for shortcut (default=0.99)\n",
    "    \n",
    "    Returns:\n",
    "        pd.DataFrame: DataFrame with new condensed feature\n",
    "    \"\"\"\n",
    "    # Select features\n",
    "    X = df[feature_set].dropna()\n",
    "    \n",
    "    # Fit PCA\n",
    "    pca = PCA(n_components=1)\n",
    "    pca.fit(X)\n",
    "    \n",
    "    explained_var = pca.explained_variance_ratio_[0]\n",
    "    \n",
    "    if explained_var >= threshold:\n",
    "        # ✅ Strong collinearity → just take the mean\n",
    "        df[new_feature_name] = df[feature_set].mean(axis=1)\n",
    "        print(f\"Using MEAN instead of PCA (explained variance = {explained_var:.4f})\")\n",
    "    else:\n",
    "        # ⚙️ Use PCA transformation\n",
    "        df[new_feature_name] = pca.transform(df[feature_set])[:, 0]\n",
    "        print(f\"Using PCA (explained variance = {explained_var:.4f})\")\n",
    "        print(f\"PCA components: {pca.components_}\")\n",
    "    \n",
    "    # Drop original features if requested\n",
    "    if drop_original:\n",
    "        df = df.drop(columns=feature_set)\n",
    "    \n",
    "    return df"
   ]
  },
  {
   "cell_type": "code",
   "execution_count": 12,
   "id": "7f384c14-a529-4e63-abf1-ce1c7dc5a8bf",
   "metadata": {},
   "outputs": [
    {
     "data": {
      "text/plain": [
       "'E:\\\\datapao'"
      ]
     },
     "execution_count": 12,
     "metadata": {},
     "output_type": "execute_result"
    }
   ],
   "source": [
    "os.getcwd()"
   ]
  },
  {
   "cell_type": "code",
   "execution_count": 13,
   "id": "ac9f5573-24d3-4728-9373-9ebbc555a414",
   "metadata": {},
   "outputs": [],
   "source": [
    "data_path = \"E:/datapao/ZTBus/\""
   ]
  },
  {
   "cell_type": "code",
   "execution_count": 14,
   "id": "c306b1d8-0059-4bd5-80b1-fb712d84a78c",
   "metadata": {},
   "outputs": [],
   "source": [
    "metadata = pd.read_csv('metaData.csv')\n",
    "metadata = metadata.drop(columns = ['startTime_iso', 'startTime_unix', 'endTime_iso', 'endTime_unix'])"
   ]
  },
  {
   "cell_type": "markdown",
   "id": "b6d31061-558d-4a06-b92a-e260b66952a1",
   "metadata": {},
   "source": [
    "-- Markdown Section"
   ]
  },
  {
   "cell_type": "code",
   "execution_count": 15,
   "id": "f2c48359-c13f-4864-8e1d-cb8aaee546e7",
   "metadata": {},
   "outputs": [],
   "source": [
    "#B183_pandasDF = loadCSVToDataFrame(data_path, \"B183*\")\n",
    "#B208_pandasDF = loadCSVToDataFrame(data_path, \"B208*\")\n",
    "#B208_pandasDF.head()\n",
    "#B183_pandasDF = B183_pandasDF.merge(metadata2, left_on = 'source_file', right_on = 'name', how = 'left')\n",
    "#B208_pandasDF = B208_pandasDF.merge(metadata2, left_on = 'source_file', right_on = 'name', how = 'left')"
   ]
  },
  {
   "cell_type": "code",
   "execution_count": 16,
   "id": "538c56eb-aee9-4cf8-9cb4-bca623ebe632",
   "metadata": {},
   "outputs": [
    {
     "name": "stdout",
     "output_type": "stream",
     "text": [
      "RAM Used: 7950.73 MB / 32471.92 MB (24.5%)\n"
     ]
    }
   ],
   "source": [
    "ram_usage()"
   ]
  },
  {
   "cell_type": "code",
   "execution_count": 17,
   "id": "43aea33e-e084-4272-81ed-307f67b905d5",
   "metadata": {},
   "outputs": [
    {
     "name": "stdout",
     "output_type": "stream",
     "text": [
      "✅ Loaded 1409 files into DataFrame\n",
      "⏱ Load time: 142.40 seconds\n",
      "💾 Memory before: 240.30 MB\n",
      "💾 Memory after:  20637.73 MB\n",
      "📊 DataFrame shape: (48674462, 27)\n"
     ]
    }
   ],
   "source": [
    "ZTBus = loadCSVToDataFrame(data_path, \"B*\")"
   ]
  },
  {
   "cell_type": "code",
   "execution_count": 18,
   "id": "1e314b2a-0079-408a-9dba-387d86e8bfb5",
   "metadata": {},
   "outputs": [
    {
     "name": "stdout",
     "output_type": "stream",
     "text": [
      "Initial size: 10026.63 MB\n",
      "Reduced size: 5431.14 MB (45.8% reduction)\n"
     ]
    }
   ],
   "source": [
    "ZTBus, ZTBus_Summary = reduceMemoryUsage(ZTBus)"
   ]
  },
  {
   "cell_type": "code",
   "execution_count": 19,
   "id": "40a8e865-3154-44cf-98aa-243cfd6158fc",
   "metadata": {},
   "outputs": [],
   "source": [
    "ZTBus = ZTBus.merge(metadata, left_on = 'source_file', right_on = 'name', how = 'left')"
   ]
  },
  {
   "cell_type": "code",
   "execution_count": 20,
   "id": "fea6779c-b255-48d7-a259-9dd68db84121",
   "metadata": {},
   "outputs": [],
   "source": [
    "del metadata"
   ]
  },
  {
   "cell_type": "code",
   "execution_count": 21,
   "id": "24d5bc3b-c03f-426b-82c7-a528908843fd",
   "metadata": {},
   "outputs": [
    {
     "data": {
      "text/plain": [
       "0"
      ]
     },
     "execution_count": 21,
     "metadata": {},
     "output_type": "execute_result"
    }
   ],
   "source": [
    "gc.collect()"
   ]
  },
  {
   "cell_type": "code",
   "execution_count": 22,
   "id": "fb7a8e49-d453-45f0-b09c-57841cf34667",
   "metadata": {},
   "outputs": [
    {
     "name": "stdout",
     "output_type": "stream",
     "text": [
      "RAM Used: 17708.32 MB / 32471.92 MB (54.5%)\n"
     ]
    }
   ],
   "source": [
    "ram_usage()"
   ]
  },
  {
   "cell_type": "code",
   "execution_count": 23,
   "id": "53c7b85a-d759-4584-9c79-b9e6374dfcc2",
   "metadata": {},
   "outputs": [
    {
     "name": "stdout",
     "output_type": "stream",
     "text": [
      "Initial size: 10165.89 MB\n",
      "Reduced size: 7380.80 MB (27.4% reduction)\n"
     ]
    }
   ],
   "source": [
    "ZTBus, ZTBus_Summary = reduceMemoryUsage(ZTBus)"
   ]
  },
  {
   "cell_type": "code",
   "execution_count": 24,
   "id": "62fed959-1481-447c-8bc4-41054324433e",
   "metadata": {},
   "outputs": [
    {
     "data": {
      "text/html": [
       "<div>\n",
       "<style scoped>\n",
       "    .dataframe tbody tr th:only-of-type {\n",
       "        vertical-align: middle;\n",
       "    }\n",
       "\n",
       "    .dataframe tbody tr th {\n",
       "        vertical-align: top;\n",
       "    }\n",
       "\n",
       "    .dataframe thead th {\n",
       "        text-align: right;\n",
       "    }\n",
       "</style>\n",
       "<table border=\"1\" class=\"dataframe\">\n",
       "  <thead>\n",
       "    <tr style=\"text-align: right;\">\n",
       "      <th></th>\n",
       "      <th>time_unix</th>\n",
       "      <th>electric_powerDemand</th>\n",
       "      <th>gnss_altitude</th>\n",
       "      <th>gnss_course</th>\n",
       "      <th>gnss_latitude</th>\n",
       "      <th>gnss_longitude</th>\n",
       "      <th>itcs_numberOfPassengers</th>\n",
       "      <th>odometry_articulationAngle</th>\n",
       "      <th>odometry_steeringAngle</th>\n",
       "      <th>odometry_vehicleSpeed</th>\n",
       "      <th>...</th>\n",
       "      <th>busNumber</th>\n",
       "      <th>drivenDistance</th>\n",
       "      <th>energyConsumption</th>\n",
       "      <th>itcs_numberOfPassengers_mean</th>\n",
       "      <th>itcs_numberOfPassengers_min</th>\n",
       "      <th>itcs_numberOfPassengers_max</th>\n",
       "      <th>status_gridIsAvailable_mean</th>\n",
       "      <th>temperature_ambient_mean</th>\n",
       "      <th>temperature_ambient_min</th>\n",
       "      <th>temperature_ambient_max</th>\n",
       "    </tr>\n",
       "  </thead>\n",
       "  <tbody>\n",
       "    <tr>\n",
       "      <th>count</th>\n",
       "      <td>4.867446e+07</td>\n",
       "      <td>4.867446e+07</td>\n",
       "      <td>4.734358e+07</td>\n",
       "      <td>4.734528e+07</td>\n",
       "      <td>4.734529e+07</td>\n",
       "      <td>4.734529e+07</td>\n",
       "      <td>444738.000000</td>\n",
       "      <td>4.867446e+07</td>\n",
       "      <td>4.867446e+07</td>\n",
       "      <td>4.867446e+07</td>\n",
       "      <td>...</td>\n",
       "      <td>4.867446e+07</td>\n",
       "      <td>4.867446e+07</td>\n",
       "      <td>4.867446e+07</td>\n",
       "      <td>4.867446e+07</td>\n",
       "      <td>4.867446e+07</td>\n",
       "      <td>4.867446e+07</td>\n",
       "      <td>4.867446e+07</td>\n",
       "      <td>4.867446e+07</td>\n",
       "      <td>4.867446e+07</td>\n",
       "      <td>4.867446e+07</td>\n",
       "    </tr>\n",
       "    <tr>\n",
       "      <th>mean</th>\n",
       "      <td>1.627992e+09</td>\n",
       "      <td>2.478952e+04</td>\n",
       "      <td>4.400245e+02</td>\n",
       "      <td>2.602361e+00</td>\n",
       "      <td>8.270245e-01</td>\n",
       "      <td>1.487024e-01</td>\n",
       "      <td>17.887466</td>\n",
       "      <td>1.752685e-02</td>\n",
       "      <td>2.267342e-02</td>\n",
       "      <td>4.263831e+00</td>\n",
       "      <td>...</td>\n",
       "      <td>1.921352e+02</td>\n",
       "      <td>1.985147e+05</td>\n",
       "      <td>1.154825e+09</td>\n",
       "      <td>1.784426e+01</td>\n",
       "      <td>2.312103e-01</td>\n",
       "      <td>6.585355e+01</td>\n",
       "      <td>6.590821e-01</td>\n",
       "      <td>2.893997e+02</td>\n",
       "      <td>2.852818e+02</td>\n",
       "      <td>2.956784e+02</td>\n",
       "    </tr>\n",
       "    <tr>\n",
       "      <th>std</th>\n",
       "      <td>3.330665e+07</td>\n",
       "      <td>6.784718e+04</td>\n",
       "      <td>3.257275e+01</td>\n",
       "      <td>2.011340e+00</td>\n",
       "      <td>2.476776e-04</td>\n",
       "      <td>3.746242e-04</td>\n",
       "      <td>13.821078</td>\n",
       "      <td>8.845592e-02</td>\n",
       "      <td>1.155644e-01</td>\n",
       "      <td>4.207733e+00</td>\n",
       "      <td>...</td>\n",
       "      <td>1.203861e+01</td>\n",
       "      <td>8.190737e+04</td>\n",
       "      <td>4.995213e+08</td>\n",
       "      <td>5.430501e+00</td>\n",
       "      <td>6.629398e-01</td>\n",
       "      <td>2.175455e+01</td>\n",
       "      <td>2.109425e-01</td>\n",
       "      <td>7.288150e+00</td>\n",
       "      <td>6.228632e+00</td>\n",
       "      <td>5.626224e+00</td>\n",
       "    </tr>\n",
       "    <tr>\n",
       "      <th>min</th>\n",
       "      <td>1.556594e+09</td>\n",
       "      <td>-3.227970e+05</td>\n",
       "      <td>-1.011752e+03</td>\n",
       "      <td>0.000000e+00</td>\n",
       "      <td>8.225854e-01</td>\n",
       "      <td>-5.114448e-02</td>\n",
       "      <td>0.000000</td>\n",
       "      <td>-9.424800e-01</td>\n",
       "      <td>-9.424800e-01</td>\n",
       "      <td>-8.477243e-01</td>\n",
       "      <td>...</td>\n",
       "      <td>1.830000e+02</td>\n",
       "      <td>3.886427e+04</td>\n",
       "      <td>1.947412e+08</td>\n",
       "      <td>1.685185e+00</td>\n",
       "      <td>0.000000e+00</td>\n",
       "      <td>8.000000e+00</td>\n",
       "      <td>2.165135e-01</td>\n",
       "      <td>2.741103e+02</td>\n",
       "      <td>2.731500e+02</td>\n",
       "      <td>2.791500e+02</td>\n",
       "    </tr>\n",
       "    <tr>\n",
       "      <th>25%</th>\n",
       "      <td>1.604595e+09</td>\n",
       "      <td>3.186402e+03</td>\n",
       "      <td>4.151000e+02</td>\n",
       "      <td>5.776362e-01</td>\n",
       "      <td>8.268975e-01</td>\n",
       "      <td>1.483610e-01</td>\n",
       "      <td>8.000000</td>\n",
       "      <td>8.726646e-03</td>\n",
       "      <td>0.000000e+00</td>\n",
       "      <td>0.000000e+00</td>\n",
       "      <td>...</td>\n",
       "      <td>1.830000e+02</td>\n",
       "      <td>1.475090e+05</td>\n",
       "      <td>8.370118e+08</td>\n",
       "      <td>1.435750e+01</td>\n",
       "      <td>0.000000e+00</td>\n",
       "      <td>5.000000e+01</td>\n",
       "      <td>4.698786e-01</td>\n",
       "      <td>2.830275e+02</td>\n",
       "      <td>2.801500e+02</td>\n",
       "      <td>2.911500e+02</td>\n",
       "    </tr>\n",
       "    <tr>\n",
       "      <th>50%</th>\n",
       "      <td>1.635432e+09</td>\n",
       "      <td>9.666712e+03</td>\n",
       "      <td>4.257716e+02</td>\n",
       "      <td>2.401412e+00</td>\n",
       "      <td>8.270337e-01</td>\n",
       "      <td>1.487095e-01</td>\n",
       "      <td>15.000000</td>\n",
       "      <td>1.745333e-02</td>\n",
       "      <td>8.726667e-03</td>\n",
       "      <td>3.557555e+00</td>\n",
       "      <td>...</td>\n",
       "      <td>1.830000e+02</td>\n",
       "      <td>2.098937e+05</td>\n",
       "      <td>1.213240e+09</td>\n",
       "      <td>1.794090e+01</td>\n",
       "      <td>0.000000e+00</td>\n",
       "      <td>6.400000e+01</td>\n",
       "      <td>5.329543e-01</td>\n",
       "      <td>2.895523e+02</td>\n",
       "      <td>2.854970e+02</td>\n",
       "      <td>2.941500e+02</td>\n",
       "    </tr>\n",
       "    <tr>\n",
       "      <th>75%</th>\n",
       "      <td>1.656400e+09</td>\n",
       "      <td>4.378899e+04</td>\n",
       "      <td>4.714848e+02</td>\n",
       "      <td>4.413938e+00</td>\n",
       "      <td>8.272278e-01</td>\n",
       "      <td>1.489492e-01</td>\n",
       "      <td>24.000000</td>\n",
       "      <td>4.363333e-02</td>\n",
       "      <td>3.490667e-02</td>\n",
       "      <td>7.874786e+00</td>\n",
       "      <td>...</td>\n",
       "      <td>2.080000e+02</td>\n",
       "      <td>2.489304e+05</td>\n",
       "      <td>1.506657e+09</td>\n",
       "      <td>2.120461e+01</td>\n",
       "      <td>0.000000e+00</td>\n",
       "      <td>8.100000e+01</td>\n",
       "      <td>8.815500e-01</td>\n",
       "      <td>2.950798e+02</td>\n",
       "      <td>2.911500e+02</td>\n",
       "      <td>2.991500e+02</td>\n",
       "    </tr>\n",
       "    <tr>\n",
       "      <th>max</th>\n",
       "      <td>1.670729e+09</td>\n",
       "      <td>3.813403e+05</td>\n",
       "      <td>4.657081e+03</td>\n",
       "      <td>6.283185e+00</td>\n",
       "      <td>8.537830e-01</td>\n",
       "      <td>1.594845e-01</td>\n",
       "      <td>131.000000</td>\n",
       "      <td>9.337533e-01</td>\n",
       "      <td>9.424800e-01</td>\n",
       "      <td>1.920769e+01</td>\n",
       "      <td>...</td>\n",
       "      <td>2.080000e+02</td>\n",
       "      <td>3.867413e+05</td>\n",
       "      <td>2.684731e+09</td>\n",
       "      <td>3.980899e+01</td>\n",
       "      <td>1.700000e+01</td>\n",
       "      <td>1.310000e+02</td>\n",
       "      <td>1.000000e+00</td>\n",
       "      <td>3.075008e+02</td>\n",
       "      <td>3.031500e+02</td>\n",
       "      <td>3.111500e+02</td>\n",
       "    </tr>\n",
       "  </tbody>\n",
       "</table>\n",
       "<p>8 rows × 33 columns</p>\n",
       "</div>"
      ],
      "text/plain": [
       "          time_unix  electric_powerDemand  gnss_altitude   gnss_course  \\\n",
       "count  4.867446e+07          4.867446e+07   4.734358e+07  4.734528e+07   \n",
       "mean   1.627992e+09          2.478952e+04   4.400245e+02  2.602361e+00   \n",
       "std    3.330665e+07          6.784718e+04   3.257275e+01  2.011340e+00   \n",
       "min    1.556594e+09         -3.227970e+05  -1.011752e+03  0.000000e+00   \n",
       "25%    1.604595e+09          3.186402e+03   4.151000e+02  5.776362e-01   \n",
       "50%    1.635432e+09          9.666712e+03   4.257716e+02  2.401412e+00   \n",
       "75%    1.656400e+09          4.378899e+04   4.714848e+02  4.413938e+00   \n",
       "max    1.670729e+09          3.813403e+05   4.657081e+03  6.283185e+00   \n",
       "\n",
       "       gnss_latitude  gnss_longitude  itcs_numberOfPassengers  \\\n",
       "count   4.734529e+07    4.734529e+07            444738.000000   \n",
       "mean    8.270245e-01    1.487024e-01                17.887466   \n",
       "std     2.476776e-04    3.746242e-04                13.821078   \n",
       "min     8.225854e-01   -5.114448e-02                 0.000000   \n",
       "25%     8.268975e-01    1.483610e-01                 8.000000   \n",
       "50%     8.270337e-01    1.487095e-01                15.000000   \n",
       "75%     8.272278e-01    1.489492e-01                24.000000   \n",
       "max     8.537830e-01    1.594845e-01               131.000000   \n",
       "\n",
       "       odometry_articulationAngle  odometry_steeringAngle  \\\n",
       "count                4.867446e+07            4.867446e+07   \n",
       "mean                 1.752685e-02            2.267342e-02   \n",
       "std                  8.845592e-02            1.155644e-01   \n",
       "min                 -9.424800e-01           -9.424800e-01   \n",
       "25%                  8.726646e-03            0.000000e+00   \n",
       "50%                  1.745333e-02            8.726667e-03   \n",
       "75%                  4.363333e-02            3.490667e-02   \n",
       "max                  9.337533e-01            9.424800e-01   \n",
       "\n",
       "       odometry_vehicleSpeed  ...     busNumber  drivenDistance  \\\n",
       "count           4.867446e+07  ...  4.867446e+07    4.867446e+07   \n",
       "mean            4.263831e+00  ...  1.921352e+02    1.985147e+05   \n",
       "std             4.207733e+00  ...  1.203861e+01    8.190737e+04   \n",
       "min            -8.477243e-01  ...  1.830000e+02    3.886427e+04   \n",
       "25%             0.000000e+00  ...  1.830000e+02    1.475090e+05   \n",
       "50%             3.557555e+00  ...  1.830000e+02    2.098937e+05   \n",
       "75%             7.874786e+00  ...  2.080000e+02    2.489304e+05   \n",
       "max             1.920769e+01  ...  2.080000e+02    3.867413e+05   \n",
       "\n",
       "       energyConsumption  itcs_numberOfPassengers_mean  \\\n",
       "count       4.867446e+07                  4.867446e+07   \n",
       "mean        1.154825e+09                  1.784426e+01   \n",
       "std         4.995213e+08                  5.430501e+00   \n",
       "min         1.947412e+08                  1.685185e+00   \n",
       "25%         8.370118e+08                  1.435750e+01   \n",
       "50%         1.213240e+09                  1.794090e+01   \n",
       "75%         1.506657e+09                  2.120461e+01   \n",
       "max         2.684731e+09                  3.980899e+01   \n",
       "\n",
       "       itcs_numberOfPassengers_min  itcs_numberOfPassengers_max  \\\n",
       "count                 4.867446e+07                 4.867446e+07   \n",
       "mean                  2.312103e-01                 6.585355e+01   \n",
       "std                   6.629398e-01                 2.175455e+01   \n",
       "min                   0.000000e+00                 8.000000e+00   \n",
       "25%                   0.000000e+00                 5.000000e+01   \n",
       "50%                   0.000000e+00                 6.400000e+01   \n",
       "75%                   0.000000e+00                 8.100000e+01   \n",
       "max                   1.700000e+01                 1.310000e+02   \n",
       "\n",
       "       status_gridIsAvailable_mean  temperature_ambient_mean  \\\n",
       "count                 4.867446e+07              4.867446e+07   \n",
       "mean                  6.590821e-01              2.893997e+02   \n",
       "std                   2.109425e-01              7.288150e+00   \n",
       "min                   2.165135e-01              2.741103e+02   \n",
       "25%                   4.698786e-01              2.830275e+02   \n",
       "50%                   5.329543e-01              2.895523e+02   \n",
       "75%                   8.815500e-01              2.950798e+02   \n",
       "max                   1.000000e+00              3.075008e+02   \n",
       "\n",
       "       temperature_ambient_min  temperature_ambient_max  \n",
       "count             4.867446e+07             4.867446e+07  \n",
       "mean              2.852818e+02             2.956784e+02  \n",
       "std               6.228632e+00             5.626224e+00  \n",
       "min               2.731500e+02             2.791500e+02  \n",
       "25%               2.801500e+02             2.911500e+02  \n",
       "50%               2.854970e+02             2.941500e+02  \n",
       "75%               2.911500e+02             2.991500e+02  \n",
       "max               3.031500e+02             3.111500e+02  \n",
       "\n",
       "[8 rows x 33 columns]"
      ]
     },
     "execution_count": 24,
     "metadata": {},
     "output_type": "execute_result"
    }
   ],
   "source": [
    "ZTBus.describe()"
   ]
  },
  {
   "cell_type": "code",
   "execution_count": 25,
   "id": "81972b60-3aac-4c09-9880-4bb1dd8cb646",
   "metadata": {},
   "outputs": [],
   "source": [
    "#ZTBus.head()"
   ]
  },
  {
   "cell_type": "code",
   "execution_count": 26,
   "id": "79e083eb-aaa9-48bb-ba15-6343df961dab",
   "metadata": {},
   "outputs": [
    {
     "name": "stdout",
     "output_type": "stream",
     "text": [
      "['time_iso', 'itcs_busRoute', 'itcs_stopName', 'source_file', 'name', 'busRoute']\n"
     ]
    }
   ],
   "source": [
    "print(getNonNumericCols(ZTBus))"
   ]
  },
  {
   "cell_type": "code",
   "execution_count": 27,
   "id": "d57a6cf7-c974-4e6f-8364-759005994036",
   "metadata": {},
   "outputs": [
    {
     "name": "stdout",
     "output_type": "stream",
     "text": [
      "                              missing_count  missing_percent\n",
      "itcs_numberOfPassengers            48229724        99.086301\n",
      "gnss_altitude                       1330884         2.734255\n",
      "gnss_course                         1329182         2.730758\n",
      "gnss_longitude                      1329169         2.730732\n",
      "gnss_latitude                       1329169         2.730732\n",
      "status_gridIsAvailable                  109         0.000224\n",
      "status_haltBrakeIsActive                109         0.000224\n",
      "status_doorIsOpen                       109         0.000224\n",
      "status_parkBrakeIsActive                109         0.000224\n",
      "temperature_ambient                     103         0.000212\n",
      "electric_powerDemand                      0         0.000000\n",
      "time_unix                                 0         0.000000\n",
      "time_iso                                  0         0.000000\n",
      "itcs_stopName                             0         0.000000\n",
      "itcs_busRoute                             0         0.000000\n",
      "odometry_wheelSpeed_fr                    0         0.000000\n",
      "odometry_wheelSpeed_fl                    0         0.000000\n",
      "odometry_vehicleSpeed                     0         0.000000\n",
      "odometry_steeringAngle                    0         0.000000\n",
      "odometry_wheelSpeed_rr                    0         0.000000\n",
      "odometry_wheelSpeed_rl                    0         0.000000\n",
      "odometry_wheelSpeed_mr                    0         0.000000\n",
      "odometry_articulationAngle                0         0.000000\n",
      "odometry_wheelSpeed_ml                    0         0.000000\n",
      "traction_brakePressure                    0         0.000000\n",
      "traction_tractionForce                    0         0.000000\n",
      "source_file                               0         0.000000\n",
      "name                                      0         0.000000\n",
      "busNumber                                 0         0.000000\n",
      "drivenDistance                            0         0.000000\n",
      "busRoute                                  0         0.000000\n",
      "energyConsumption                         0         0.000000\n",
      "itcs_numberOfPassengers_mean              0         0.000000\n",
      "itcs_numberOfPassengers_min               0         0.000000\n",
      "itcs_numberOfPassengers_max               0         0.000000\n",
      "status_gridIsAvailable_mean               0         0.000000\n",
      "temperature_ambient_mean                  0         0.000000\n",
      "temperature_ambient_min                   0         0.000000\n",
      "temperature_ambient_max                   0         0.000000\n"
     ]
    }
   ],
   "source": [
    "print(missingPercentage(ZTBus))"
   ]
  },
  {
   "cell_type": "code",
   "execution_count": 28,
   "id": "75fded10-445f-453d-82b3-57d35415d0f0",
   "metadata": {},
   "outputs": [],
   "source": [
    "ZTBus.drop(columns = ['itcs_numberOfPassengers', 'time_iso', 'itcs_stopName', 'source_file', 'name'], inplace = True)"
   ]
  },
  {
   "cell_type": "code",
   "execution_count": 29,
   "id": "08cd88a6-832b-499d-9fb7-efde80865a50",
   "metadata": {},
   "outputs": [],
   "source": [
    "#print(missing_percentage(ZTBus))"
   ]
  },
  {
   "cell_type": "code",
   "execution_count": 30,
   "id": "27fa11f0-4f29-4056-b9e7-6cce19abd146",
   "metadata": {},
   "outputs": [
    {
     "data": {
      "text/plain": [
       "0"
      ]
     },
     "execution_count": 30,
     "metadata": {},
     "output_type": "execute_result"
    }
   ],
   "source": [
    "gc.collect()"
   ]
  },
  {
   "cell_type": "code",
   "execution_count": 31,
   "id": "c06e6137-9460-410b-85eb-402dcb7eb591",
   "metadata": {},
   "outputs": [
    {
     "name": "stdout",
     "output_type": "stream",
     "text": [
      "RAM Used: 13133.68 MB / 32471.92 MB (40.4%)\n"
     ]
    }
   ],
   "source": [
    "ram_usage()"
   ]
  },
  {
   "cell_type": "code",
   "execution_count": 32,
   "id": "47b4cad0-9c90-4b9a-aa49-e2cda27c4cb7",
   "metadata": {},
   "outputs": [
    {
     "name": "stdout",
     "output_type": "stream",
     "text": [
      "DataFrame uses 6.39 GB\n"
     ]
    }
   ],
   "source": [
    "# Memory in GB\n",
    "mem_gb = ZTBus.memory_usage(deep=True).sum() / (1024 ** 3)\n",
    "print(f\"DataFrame uses {mem_gb:.2f} GB\")"
   ]
  },
  {
   "cell_type": "markdown",
   "id": "0828f3cd-6f2b-4319-be81-228a5fe35e69",
   "metadata": {},
   "source": [
    "--- This sections starts the treatment of missing values in the dataframe ---"
   ]
  },
  {
   "cell_type": "markdown",
   "id": "efb8cf15-61fe-4436-801b-9fca97b20366",
   "metadata": {},
   "source": [
    "-- Start Visualization of Missing GNSS Sensor --"
   ]
  },
  {
   "cell_type": "markdown",
   "id": "545c29f3-e696-4aa4-a9fb-1274a39a500b",
   "metadata": {},
   "source": [
    "-- From the missing percentage analysis, we see the sensor data has an approximately 2.7% is missing in all 4. So we use interpolation methods to resolve it. -- "
   ]
  },
  {
   "cell_type": "code",
   "execution_count": 34,
   "id": "4660c9b9-e3be-4e76-bf50-a5b2e86eabe5",
   "metadata": {},
   "outputs": [
    {
     "name": "stderr",
     "output_type": "stream",
     "text": [
      "C:\\Users\\Saransh\\AppData\\Local\\Temp\\ipykernel_2188\\20084677.py:13: UserWarning: Creating legend with loc=\"best\" can be slow with large amounts of data.\n",
      "  plt.savefig(\"altitude_sensor_plot.jpg\", dpi=300, bbox_inches=\"tight\")\n",
      "C:\\Users\\Saransh\\AppData\\Local\\Temp\\ipykernel_2188\\20084677.py:13: UserWarning: Creating legend with loc=\"best\" can be slow with large amounts of data.\n",
      "  plt.savefig(\"altitude_sensor_plot.jpg\", dpi=300, bbox_inches=\"tight\")\n",
      "C:\\Users\\Saransh\\AppData\\Local\\Programs\\Python\\Python313\\Lib\\site-packages\\IPython\\core\\pylabtools.py:170: UserWarning: Creating legend with loc=\"best\" can be slow with large amounts of data.\n",
      "  fig.canvas.print_figure(bytes_io, **kw)\n"
     ]
    },
    {
     "data": {
      "image/png": "[encoded data removed]",
      "text/plain": [
       "<Figure size 1400x500 with 1 Axes>"
      ]
     },
     "metadata": {},
     "output_type": "display_data"
    }
   ],
   "source": [
    "plt.figure(figsize=(14, 5))\n",
    "plt.plot(ZTBus.index, ZTBus['gnss_altitude'], color='blue', alpha=0.4, label='Sensor Value')\n",
    "\n",
    "# Plot missing points\n",
    "plt.scatter(ZTBus.index[ZTBus['gnss_altitude'].isna()], \n",
    "            [0]*ZTBus['gnss_altitude'].isna().sum(), \n",
    "            color='red', marker='x', label='Missing', s=10)\n",
    "\n",
    "plt.title('Altitude Sensor Data with Missing Points')\n",
    "plt.legend()\n",
    "\n",
    "# Save as JPG\n",
    "plt.savefig(\"altitude_sensor_plot.jpg\", dpi=300, bbox_inches=\"tight\") \n",
    "\n",
    "plt.show()"
   ]
  },
  {
   "cell_type": "code",
   "execution_count": 35,
   "id": "ea5e0578-ba56-4153-988d-f360e195460a",
   "metadata": {},
   "outputs": [],
   "source": [
    "ZTBus = handleMissingSensorData(ZTBus, 'gnss_altitude')"
   ]
  },
  {
   "cell_type": "code",
   "execution_count": 36,
   "id": "35ff27c5-61dd-4302-95b8-eee377da3f46",
   "metadata": {},
   "outputs": [],
   "source": [
    "ZTBus['timestamp'] = pd.to_datetime(ZTBus['time_unix'], unit='s')"
   ]
  },
  {
   "cell_type": "code",
   "execution_count": 37,
   "id": "b4146b33-6563-4c64-a1ba-3d73bb93d3bc",
   "metadata": {},
   "outputs": [],
   "source": [
    "ZTBus.drop(columns = ['time_unix'], inplace = True)"
   ]
  },
  {
   "cell_type": "code",
   "execution_count": 40,
   "id": "7eadf67b-ea60-41c1-9dcd-cb73f643d4e6",
   "metadata": {},
   "outputs": [],
   "source": [
    "ZTBus = removeOutliersIQR(ZTBus, 'gnss_altitude')"
   ]
  },
  {
   "cell_type": "code",
   "execution_count": 41,
   "id": "d13de91b-ad04-43c4-b66d-db8266f4c9d3",
   "metadata": {},
   "outputs": [
    {
     "name": "stderr",
     "output_type": "stream",
     "text": [
      "C:\\Users\\Saransh\\AppData\\Local\\Programs\\Python\\Python313\\Lib\\site-packages\\IPython\\core\\pylabtools.py:170: UserWarning: Creating legend with loc=\"best\" can be slow with large amounts of data.\n",
      "  fig.canvas.print_figure(bytes_io, **kw)\n"
     ]
    },
    {
     "data": {
      "image/png": "[encoded data removed]",
      "text/plain": [
       "<Figure size 1400x500 with 1 Axes>"
      ]
     },
     "metadata": {},
     "output_type": "display_data"
    }
   ],
   "source": [
    "plt.figure(figsize=(14, 5))\n",
    "plt.plot(ZTBus.index, ZTBus['gnss_altitude'], color='blue', alpha=0.4, label='Sensor Value')\n",
    "\n",
    "# Plot missing points\n",
    "plt.scatter(ZTBus.index[ZTBus['gnss_altitude'].isna()], \n",
    "            [0]*ZTBus['gnss_altitude'].isna().sum(), \n",
    "            color='red', marker='x', label='Missing', s=10)\n",
    "\n",
    "plt.title('Altitude Sensor Data with Missing Points')\n",
    "plt.legend()\n",
    "plt.show()"
   ]
  },
  {
   "cell_type": "code",
   "execution_count": 42,
   "id": "0e501afc-1c5c-4f7e-b4ca-ac3b5fe19385",
   "metadata": {},
   "outputs": [],
   "source": [
    "ZTBus = handleMissingSensorData(ZTBus, 'gnss_altitude')"
   ]
  },
  {
   "cell_type": "code",
   "execution_count": 43,
   "id": "55dd80e6-6603-4984-b4ed-5f8dca2b8427",
   "metadata": {},
   "outputs": [
    {
     "name": "stderr",
     "output_type": "stream",
     "text": [
      "C:\\Users\\Saransh\\AppData\\Local\\Temp\\ipykernel_2188\\3494837249.py:13: UserWarning: Creating legend with loc=\"best\" can be slow with large amounts of data.\n",
      "  plt.savefig(\"altitude_sensor_clean_plot.jpg\", dpi=300, bbox_inches=\"tight\")\n",
      "C:\\Users\\Saransh\\AppData\\Local\\Temp\\ipykernel_2188\\3494837249.py:13: UserWarning: Creating legend with loc=\"best\" can be slow with large amounts of data.\n",
      "  plt.savefig(\"altitude_sensor_clean_plot.jpg\", dpi=300, bbox_inches=\"tight\")\n",
      "C:\\Users\\Saransh\\AppData\\Local\\Programs\\Python\\Python313\\Lib\\site-packages\\IPython\\core\\pylabtools.py:170: UserWarning: Creating legend with loc=\"best\" can be slow with large amounts of data.\n",
      "  fig.canvas.print_figure(bytes_io, **kw)\n"
     ]
    },
    {
     "data": {
      "image/png": "[encoded data removed]",
      "text/plain": [
       "<Figure size 1400x500 with 1 Axes>"
      ]
     },
     "metadata": {},
     "output_type": "display_data"
    }
   ],
   "source": [
    "plt.figure(figsize=(14, 5))\n",
    "plt.plot(ZTBus.index, ZTBus['gnss_altitude'], color='blue', alpha=0.4, label='Sensor Value')\n",
    "\n",
    "# Plot missing points\n",
    "plt.scatter(ZTBus.index[ZTBus['gnss_altitude'].isna()], \n",
    "            [0]*ZTBus['gnss_altitude'].isna().sum(), \n",
    "            color='red', marker='x', label='Missing', s=10)\n",
    "\n",
    "plt.title('Altitude Sensor Data with Missing Points')\n",
    "plt.legend()\n",
    "\n",
    "# Save as JPG\n",
    "plt.savefig(\"altitude_sensor_clean_plot.jpg\", dpi=300, bbox_inches=\"tight\")\n",
    "\n",
    "plt.show()"
   ]
  },
  {
   "cell_type": "code",
   "execution_count": 44,
   "id": "af590c85-e073-4f14-8a34-6a7b058f9e60",
   "metadata": {},
   "outputs": [],
   "source": [
    "ZTBus = ZTBus.sort_values(\"timestamp\")\n",
    "\n",
    "#ZTBus['gnss_latitude'] = ZTBus.groupby('timestamp')['gnss_latitude'].transform(lambda x: x.interpolate())\n",
    "#ZTBus['gnss_longitude'] = ZTBus.groupby('timestamp')['gnss_longitude'].transform(lambda x: x.interpolate())"
   ]
  },
  {
   "cell_type": "code",
   "execution_count": 45,
   "id": "c411340f-f300-45cf-8608-4648e77fce06",
   "metadata": {},
   "outputs": [],
   "source": [
    "ZTBus = handleMissingSensorData(ZTBus, 'gnss_latitude')"
   ]
  },
  {
   "cell_type": "code",
   "execution_count": 46,
   "id": "e1fe2aec-8c01-4437-ad8e-65671599d1a2",
   "metadata": {},
   "outputs": [],
   "source": [
    "ZTBus = handleMissingSensorData(ZTBus, 'gnss_longitude')"
   ]
  },
  {
   "cell_type": "code",
   "execution_count": 47,
   "id": "543d83c0-b7b2-465c-8683-21129760b61b",
   "metadata": {},
   "outputs": [],
   "source": [
    "coords = ZTBus[['gnss_latitude', 'gnss_longitude']]\n",
    "kmeans = KMeans(n_clusters=20, random_state=42)\n",
    "ZTBus['location_cluster'] = kmeans.fit_predict(coords)"
   ]
  },
  {
   "cell_type": "code",
   "execution_count": 48,
   "id": "1f6f0d41-23ab-42d6-ac88-aad2afd93b23",
   "metadata": {},
   "outputs": [],
   "source": [
    "ZTBus.drop(columns= ['gnss_latitude', 'gnss_longitude'], inplace = True)"
   ]
  },
  {
   "cell_type": "code",
   "execution_count": 49,
   "id": "c4e8fbb3-a76c-4802-8248-243755d92794",
   "metadata": {},
   "outputs": [
    {
     "data": {
      "text/plain": [
       "array([ 1,  3, 11,  2, 17, 16,  9, 13, 18,  7,  8,  6, 19, 14,  5,  4,  0,\n",
       "       15, 12, 10], dtype=int32)"
      ]
     },
     "execution_count": 49,
     "metadata": {},
     "output_type": "execute_result"
    }
   ],
   "source": [
    "ZTBus.location_cluster.unique()"
   ]
  },
  {
   "cell_type": "code",
   "execution_count": 50,
   "id": "116350b9-1eac-4139-8a26-3bd8e786e8d6",
   "metadata": {},
   "outputs": [
    {
     "name": "stdout",
     "output_type": "stream",
     "text": [
      "Initial size: 6916.52 MB\n",
      "Reduced size: 6777.26 MB (2.0% reduction)\n"
     ]
    }
   ],
   "source": [
    "ZTBus, ZTBus_Summary = reduceMemoryUsage(ZTBus)"
   ]
  },
  {
   "cell_type": "code",
   "execution_count": 51,
   "id": "7075e596-3732-4edd-9ac1-95efe57ccacf",
   "metadata": {},
   "outputs": [
    {
     "data": {
      "image/png": "[encoded data removed]",
      "text/plain": [
       "<Figure size 600x400 with 1 Axes>"
      ]
     },
     "metadata": {},
     "output_type": "display_data"
    }
   ],
   "source": [
    "ZTBus[\"location_cluster\"] = ZTBus[\"location_cluster\"].astype(str)\n",
    "\n",
    "# Scatter plot\n",
    "plt.figure(figsize=(6,4))\n",
    "plt.scatter(ZTBus[\"location_cluster\"], ZTBus[\"gnss_altitude\"], alpha=0.7)\n",
    "\n",
    "plt.xlabel(\"Location Cluster (categorical)\")\n",
    "plt.ylabel(\"Average Altitude (continuous)\")\n",
    "plt.title(\"Scatter plot of Location vs Altitude\")\n",
    "plt.show()"
   ]
  },
  {
   "cell_type": "code",
   "execution_count": 52,
   "id": "e8781ec3-fdab-4b75-bc65-d1864f0693b5",
   "metadata": {},
   "outputs": [
    {
     "name": "stdout",
     "output_type": "stream",
     "text": [
      "Initial size: 7102.20 MB\n",
      "Reduced size: 6777.26 MB (4.6% reduction)\n"
     ]
    }
   ],
   "source": [
    "ZTBus, ZTBus_Summary = reduceMemoryUsage(ZTBus)"
   ]
  },
  {
   "cell_type": "code",
   "execution_count": 53,
   "id": "83a71b9a-e8f1-43f3-a238-ace9ce70287b",
   "metadata": {},
   "outputs": [
    {
     "data": {
      "text/plain": [
       "4189"
      ]
     },
     "execution_count": 53,
     "metadata": {},
     "output_type": "execute_result"
    }
   ],
   "source": [
    "gc.collect()"
   ]
  },
  {
   "cell_type": "code",
   "execution_count": 54,
   "id": "eef80304-2c92-45b4-9328-781ee92dadde",
   "metadata": {},
   "outputs": [],
   "source": [
    "ZTBus = reduceDrivingFeatures(ZTBus)"
   ]
  },
  {
   "cell_type": "code",
   "execution_count": 56,
   "id": "1e45d408-3e5b-4fe0-81c1-4503b57b2d37",
   "metadata": {},
   "outputs": [
    {
     "data": {
      "text/plain": [
       "0"
      ]
     },
     "execution_count": 56,
     "metadata": {},
     "output_type": "execute_result"
    }
   ],
   "source": [
    "gc.collect()"
   ]
  },
  {
   "cell_type": "code",
   "execution_count": 57,
   "id": "03ed76c8-ea75-4f89-be69-6c2d0ed99a65",
   "metadata": {},
   "outputs": [
    {
     "data": {
      "image/png": "[encoded data removed]",
      "text/plain": [
       "<Figure size 1000x800 with 2 Axes>"
      ]
     },
     "metadata": {},
     "output_type": "display_data"
    }
   ],
   "source": [
    "correlated = plotNumericCorrelations(ZTBus, corr_threshold=0.85)"
   ]
  },
  {
   "cell_type": "code",
   "execution_count": 58,
   "id": "604f01f1-bac2-4839-96b9-c46201b9b793",
   "metadata": {},
   "outputs": [
    {
     "data": {
      "text/plain": [
       "8810"
      ]
     },
     "execution_count": 58,
     "metadata": {},
     "output_type": "execute_result"
    }
   ],
   "source": [
    "gc.collect()"
   ]
  },
  {
   "cell_type": "code",
   "execution_count": 59,
   "id": "d0d7328c-d368-4b1d-a695-5943999728d2",
   "metadata": {
    "scrolled": true
   },
   "outputs": [
    {
     "name": "stdout",
     "output_type": "stream",
     "text": [
      "Highly correlated feature pairs:\n",
      "odometry_articulationAngle ↔ odometry_steeringAngle : corr = -0.89\n",
      "odometry_articulationAngle ↔ wheelSpeed_left_right_diff : corr = 0.85\n",
      "odometry_vehicleSpeed ↔ wheelSpeed_mean : corr = 1.00\n",
      "temperature_ambient ↔ temperature_ambient_mean : corr = 0.94\n",
      "temperature_ambient ↔ temperature_ambient_min : corr = 0.89\n",
      "temperature_ambient ↔ temperature_ambient_max : corr = 0.89\n",
      "drivenDistance ↔ energyConsumption : corr = 0.95\n",
      "temperature_ambient_mean ↔ temperature_ambient_min : corr = 0.95\n",
      "temperature_ambient_mean ↔ temperature_ambient_max : corr = 0.94\n",
      "temperature_ambient_min ↔ temperature_ambient_max : corr = 0.86\n"
     ]
    }
   ],
   "source": [
    "print(\"Highly correlated feature pairs:\")\n",
    "for f1, f2, val in correlated:\n",
    "    print(f\"{f1} ↔ {f2} : corr = {val:.2f}\")"
   ]
  },
  {
   "cell_type": "code",
   "execution_count": 60,
   "id": "ce64406c-d576-4489-ab2e-842722539a50",
   "metadata": {},
   "outputs": [
    {
     "name": "stdout",
     "output_type": "stream",
     "text": [
      "['itcs_busRoute', 'busRoute', 'timestamp', 'location_cluster']\n"
     ]
    }
   ],
   "source": [
    "print(getNonNumericCols(ZTBus))"
   ]
  },
  {
   "cell_type": "code",
   "execution_count": 61,
   "id": "e067124a-534c-454c-ae4a-7433f3cd30de",
   "metadata": {},
   "outputs": [
    {
     "data": {
      "text/html": [
       "<div>\n",
       "<style scoped>\n",
       "    .dataframe tbody tr th:only-of-type {\n",
       "        vertical-align: middle;\n",
       "    }\n",
       "\n",
       "    .dataframe tbody tr th {\n",
       "        vertical-align: top;\n",
       "    }\n",
       "\n",
       "    .dataframe thead th {\n",
       "        text-align: right;\n",
       "    }\n",
       "</style>\n",
       "<table border=\"1\" class=\"dataframe\">\n",
       "  <thead>\n",
       "    <tr style=\"text-align: right;\">\n",
       "      <th></th>\n",
       "      <th>count</th>\n",
       "      <th>percentage</th>\n",
       "    </tr>\n",
       "    <tr>\n",
       "      <th>itcs_busRoute</th>\n",
       "      <th></th>\n",
       "      <th></th>\n",
       "    </tr>\n",
       "  </thead>\n",
       "  <tbody>\n",
       "    <tr>\n",
       "      <th>-</th>\n",
       "      <td>48235091</td>\n",
       "      <td>99.097327</td>\n",
       "    </tr>\n",
       "    <tr>\n",
       "      <th>83</th>\n",
       "      <td>198875</td>\n",
       "      <td>0.408582</td>\n",
       "    </tr>\n",
       "    <tr>\n",
       "      <th>33</th>\n",
       "      <td>90427</td>\n",
       "      <td>0.185779</td>\n",
       "    </tr>\n",
       "    <tr>\n",
       "      <th>72</th>\n",
       "      <td>73254</td>\n",
       "      <td>0.150498</td>\n",
       "    </tr>\n",
       "    <tr>\n",
       "      <th>46</th>\n",
       "      <td>50899</td>\n",
       "      <td>0.104570</td>\n",
       "    </tr>\n",
       "    <tr>\n",
       "      <th>32</th>\n",
       "      <td>9702</td>\n",
       "      <td>0.019932</td>\n",
       "    </tr>\n",
       "    <tr>\n",
       "      <th>31</th>\n",
       "      <td>7453</td>\n",
       "      <td>0.015312</td>\n",
       "    </tr>\n",
       "    <tr>\n",
       "      <th>N2</th>\n",
       "      <td>4839</td>\n",
       "      <td>0.009942</td>\n",
       "    </tr>\n",
       "    <tr>\n",
       "      <th>N4</th>\n",
       "      <td>1989</td>\n",
       "      <td>0.004086</td>\n",
       "    </tr>\n",
       "    <tr>\n",
       "      <th>N1</th>\n",
       "      <td>1933</td>\n",
       "      <td>0.003971</td>\n",
       "    </tr>\n",
       "  </tbody>\n",
       "</table>\n",
       "</div>"
      ],
      "text/plain": [
       "                  count  percentage\n",
       "itcs_busRoute                      \n",
       "-              48235091   99.097327\n",
       "83               198875    0.408582\n",
       "33                90427    0.185779\n",
       "72                73254    0.150498\n",
       "46                50899    0.104570\n",
       "32                 9702    0.019932\n",
       "31                 7453    0.015312\n",
       "N2                 4839    0.009942\n",
       "N4                 1989    0.004086\n",
       "N1                 1933    0.003971"
      ]
     },
     "execution_count": 61,
     "metadata": {},
     "output_type": "execute_result"
    }
   ],
   "source": [
    "ZTBus[\"itcs_busRoute\"].value_counts(dropna=False).to_frame(\"count\").assign(\n",
    "    percentage=lambda x: x[\"count\"] / x[\"count\"].sum() * 100\n",
    ")"
   ]
  },
  {
   "cell_type": "code",
   "execution_count": 63,
   "id": "449b6ddf-a719-40ab-b7e5-4f9632f03741",
   "metadata": {},
   "outputs": [
    {
     "data": {
      "text/html": [
       "<div>\n",
       "<style scoped>\n",
       "    .dataframe tbody tr th:only-of-type {\n",
       "        vertical-align: middle;\n",
       "    }\n",
       "\n",
       "    .dataframe tbody tr th {\n",
       "        vertical-align: top;\n",
       "    }\n",
       "\n",
       "    .dataframe thead th {\n",
       "        text-align: right;\n",
       "    }\n",
       "</style>\n",
       "<table border=\"1\" class=\"dataframe\">\n",
       "  <thead>\n",
       "    <tr style=\"text-align: right;\">\n",
       "      <th></th>\n",
       "      <th>count</th>\n",
       "      <th>percentage</th>\n",
       "    </tr>\n",
       "    <tr>\n",
       "      <th>busRoute</th>\n",
       "      <th></th>\n",
       "      <th></th>\n",
       "    </tr>\n",
       "  </thead>\n",
       "  <tbody>\n",
       "    <tr>\n",
       "      <th>83</th>\n",
       "      <td>24420202</td>\n",
       "      <td>50.170461</td>\n",
       "    </tr>\n",
       "    <tr>\n",
       "      <th>33</th>\n",
       "      <td>8119864</td>\n",
       "      <td>16.681980</td>\n",
       "    </tr>\n",
       "    <tr>\n",
       "      <th>72</th>\n",
       "      <td>7975176</td>\n",
       "      <td>16.384723</td>\n",
       "    </tr>\n",
       "    <tr>\n",
       "      <th>46</th>\n",
       "      <td>4771365</td>\n",
       "      <td>9.802604</td>\n",
       "    </tr>\n",
       "    <tr>\n",
       "      <th>32</th>\n",
       "      <td>1026054</td>\n",
       "      <td>2.107992</td>\n",
       "    </tr>\n",
       "    <tr>\n",
       "      <th>31</th>\n",
       "      <td>802922</td>\n",
       "      <td>1.649576</td>\n",
       "    </tr>\n",
       "    <tr>\n",
       "      <th>N2</th>\n",
       "      <td>556045</td>\n",
       "      <td>1.142375</td>\n",
       "    </tr>\n",
       "    <tr>\n",
       "      <th>-</th>\n",
       "      <td>545269</td>\n",
       "      <td>1.120236</td>\n",
       "    </tr>\n",
       "    <tr>\n",
       "      <th>N4</th>\n",
       "      <td>242544</td>\n",
       "      <td>0.498298</td>\n",
       "    </tr>\n",
       "    <tr>\n",
       "      <th>N1</th>\n",
       "      <td>215021</td>\n",
       "      <td>0.441753</td>\n",
       "    </tr>\n",
       "  </tbody>\n",
       "</table>\n",
       "</div>"
      ],
      "text/plain": [
       "             count  percentage\n",
       "busRoute                      \n",
       "83        24420202   50.170461\n",
       "33         8119864   16.681980\n",
       "72         7975176   16.384723\n",
       "46         4771365    9.802604\n",
       "32         1026054    2.107992\n",
       "31          802922    1.649576\n",
       "N2          556045    1.142375\n",
       "-           545269    1.120236\n",
       "N4          242544    0.498298\n",
       "N1          215021    0.441753"
      ]
     },
     "execution_count": 63,
     "metadata": {},
     "output_type": "execute_result"
    }
   ],
   "source": [
    "ZTBus[\"busRoute\"].value_counts(dropna=False).to_frame(\"count\").assign(\n",
    "    percentage=lambda x: x[\"count\"] / x[\"count\"].sum() * 100\n",
    ")"
   ]
  },
  {
   "cell_type": "markdown",
   "id": "48c8dc47-cc9c-4db7-845c-71365c6573a2",
   "metadata": {},
   "source": [
    "-- As there is no way to estimate the bus route where none is provided, the best way is to remove the rows all together. --"
   ]
  },
  {
   "cell_type": "code",
   "execution_count": 64,
   "id": "b9380d62-2fc2-4b13-920d-0a759f52eefe",
   "metadata": {},
   "outputs": [
    {
     "data": {
      "text/html": [
       "<div>\n",
       "<style scoped>\n",
       "    .dataframe tbody tr th:only-of-type {\n",
       "        vertical-align: middle;\n",
       "    }\n",
       "\n",
       "    .dataframe tbody tr th {\n",
       "        vertical-align: top;\n",
       "    }\n",
       "\n",
       "    .dataframe thead th {\n",
       "        text-align: right;\n",
       "    }\n",
       "</style>\n",
       "<table border=\"1\" class=\"dataframe\">\n",
       "  <thead>\n",
       "    <tr style=\"text-align: right;\">\n",
       "      <th></th>\n",
       "      <th>count</th>\n",
       "      <th>percentage</th>\n",
       "    </tr>\n",
       "    <tr>\n",
       "      <th>itcs_numberOfPassengers_mean</th>\n",
       "      <th></th>\n",
       "      <th></th>\n",
       "    </tr>\n",
       "  </thead>\n",
       "  <tbody>\n",
       "    <tr>\n",
       "      <th>18.719610</th>\n",
       "      <td>86188</td>\n",
       "      <td>0.177070</td>\n",
       "    </tr>\n",
       "    <tr>\n",
       "      <th>15.138730</th>\n",
       "      <td>78812</td>\n",
       "      <td>0.161917</td>\n",
       "    </tr>\n",
       "    <tr>\n",
       "      <th>20.383591</th>\n",
       "      <td>77634</td>\n",
       "      <td>0.159496</td>\n",
       "    </tr>\n",
       "    <tr>\n",
       "      <th>23.536949</th>\n",
       "      <td>73890</td>\n",
       "      <td>0.151804</td>\n",
       "    </tr>\n",
       "    <tr>\n",
       "      <th>18.237610</th>\n",
       "      <td>73379</td>\n",
       "      <td>0.150755</td>\n",
       "    </tr>\n",
       "    <tr>\n",
       "      <th>...</th>\n",
       "      <td>...</td>\n",
       "      <td>...</td>\n",
       "    </tr>\n",
       "    <tr>\n",
       "      <th>19.738640</th>\n",
       "      <td>10860</td>\n",
       "      <td>0.022311</td>\n",
       "    </tr>\n",
       "    <tr>\n",
       "      <th>36.544300</th>\n",
       "      <td>10846</td>\n",
       "      <td>0.022283</td>\n",
       "    </tr>\n",
       "    <tr>\n",
       "      <th>17.238640</th>\n",
       "      <td>10826</td>\n",
       "      <td>0.022242</td>\n",
       "    </tr>\n",
       "    <tr>\n",
       "      <th>20.728161</th>\n",
       "      <td>10825</td>\n",
       "      <td>0.022240</td>\n",
       "    </tr>\n",
       "    <tr>\n",
       "      <th>11.852270</th>\n",
       "      <td>10808</td>\n",
       "      <td>0.022205</td>\n",
       "    </tr>\n",
       "  </tbody>\n",
       "</table>\n",
       "<p>1399 rows × 2 columns</p>\n",
       "</div>"
      ],
      "text/plain": [
       "                              count  percentage\n",
       "itcs_numberOfPassengers_mean                   \n",
       "18.719610                     86188    0.177070\n",
       "15.138730                     78812    0.161917\n",
       "20.383591                     77634    0.159496\n",
       "23.536949                     73890    0.151804\n",
       "18.237610                     73379    0.150755\n",
       "...                             ...         ...\n",
       "19.738640                     10860    0.022311\n",
       "36.544300                     10846    0.022283\n",
       "17.238640                     10826    0.022242\n",
       "20.728161                     10825    0.022240\n",
       "11.852270                     10808    0.022205\n",
       "\n",
       "[1399 rows x 2 columns]"
      ]
     },
     "execution_count": 64,
     "metadata": {},
     "output_type": "execute_result"
    }
   ],
   "source": [
    "ZTBus[\"itcs_numberOfPassengers_mean\"].value_counts(dropna=False).to_frame(\"count\").assign(\n",
    "    percentage=lambda x: x[\"count\"] / x[\"count\"].sum() * 100\n",
    ")"
   ]
  },
  {
   "cell_type": "markdown",
   "id": "a3dc1f39-b09d-408a-98d7-1e0ff5060338",
   "metadata": {},
   "source": [
    "-- We cannot have half a person boarding the bus, thus, we should round the values up to account for errors in the mean number of passengers --"
   ]
  },
  {
   "cell_type": "code",
   "execution_count": 65,
   "id": "713e7457-be49-43f3-9755-e064d3d11556",
   "metadata": {},
   "outputs": [
    {
     "data": {
      "text/html": [
       "<div>\n",
       "<style scoped>\n",
       "    .dataframe tbody tr th:only-of-type {\n",
       "        vertical-align: middle;\n",
       "    }\n",
       "\n",
       "    .dataframe tbody tr th {\n",
       "        vertical-align: top;\n",
       "    }\n",
       "\n",
       "    .dataframe thead th {\n",
       "        text-align: right;\n",
       "    }\n",
       "</style>\n",
       "<table border=\"1\" class=\"dataframe\">\n",
       "  <thead>\n",
       "    <tr style=\"text-align: right;\">\n",
       "      <th></th>\n",
       "      <th>count</th>\n",
       "      <th>percentage</th>\n",
       "    </tr>\n",
       "    <tr>\n",
       "      <th>itcs_numberOfPassengers_min</th>\n",
       "      <th></th>\n",
       "      <th></th>\n",
       "    </tr>\n",
       "  </thead>\n",
       "  <tbody>\n",
       "    <tr>\n",
       "      <th>0</th>\n",
       "      <td>40767952</td>\n",
       "      <td>83.756348</td>\n",
       "    </tr>\n",
       "    <tr>\n",
       "      <th>1</th>\n",
       "      <td>5746956</td>\n",
       "      <td>11.806922</td>\n",
       "    </tr>\n",
       "    <tr>\n",
       "      <th>2</th>\n",
       "      <td>1558000</td>\n",
       "      <td>3.200857</td>\n",
       "    </tr>\n",
       "    <tr>\n",
       "      <th>3</th>\n",
       "      <td>321046</td>\n",
       "      <td>0.659578</td>\n",
       "    </tr>\n",
       "    <tr>\n",
       "      <th>4</th>\n",
       "      <td>185414</td>\n",
       "      <td>0.380927</td>\n",
       "    </tr>\n",
       "    <tr>\n",
       "      <th>6</th>\n",
       "      <td>49708</td>\n",
       "      <td>0.102123</td>\n",
       "    </tr>\n",
       "    <tr>\n",
       "      <th>5</th>\n",
       "      <td>19062</td>\n",
       "      <td>0.039162</td>\n",
       "    </tr>\n",
       "    <tr>\n",
       "      <th>7</th>\n",
       "      <td>15478</td>\n",
       "      <td>0.031799</td>\n",
       "    </tr>\n",
       "    <tr>\n",
       "      <th>17</th>\n",
       "      <td>10846</td>\n",
       "      <td>0.022283</td>\n",
       "    </tr>\n",
       "  </tbody>\n",
       "</table>\n",
       "</div>"
      ],
      "text/plain": [
       "                                count  percentage\n",
       "itcs_numberOfPassengers_min                      \n",
       "0                            40767952   83.756348\n",
       "1                             5746956   11.806922\n",
       "2                             1558000    3.200857\n",
       "3                              321046    0.659578\n",
       "4                              185414    0.380927\n",
       "6                               49708    0.102123\n",
       "5                               19062    0.039162\n",
       "7                               15478    0.031799\n",
       "17                              10846    0.022283"
      ]
     },
     "execution_count": 65,
     "metadata": {},
     "output_type": "execute_result"
    }
   ],
   "source": [
    "ZTBus[\"itcs_numberOfPassengers_min\"].value_counts(dropna=False).to_frame(\"count\").assign(\n",
    "    percentage=lambda x: x[\"count\"] / x[\"count\"].sum() * 100\n",
    ")"
   ]
  },
  {
   "cell_type": "code",
   "execution_count": 66,
   "id": "3668bb79-832d-4250-b981-c34d0bd4cec8",
   "metadata": {},
   "outputs": [
    {
     "data": {
      "text/html": [
       "<div>\n",
       "<style scoped>\n",
       "    .dataframe tbody tr th:only-of-type {\n",
       "        vertical-align: middle;\n",
       "    }\n",
       "\n",
       "    .dataframe tbody tr th {\n",
       "        vertical-align: top;\n",
       "    }\n",
       "\n",
       "    .dataframe thead th {\n",
       "        text-align: right;\n",
       "    }\n",
       "</style>\n",
       "<table border=\"1\" class=\"dataframe\">\n",
       "  <thead>\n",
       "    <tr style=\"text-align: right;\">\n",
       "      <th></th>\n",
       "      <th>count</th>\n",
       "      <th>percentage</th>\n",
       "    </tr>\n",
       "    <tr>\n",
       "      <th>itcs_numberOfPassengers_max</th>\n",
       "      <th></th>\n",
       "      <th></th>\n",
       "    </tr>\n",
       "  </thead>\n",
       "  <tbody>\n",
       "    <tr>\n",
       "      <th>68</th>\n",
       "      <td>1105393</td>\n",
       "      <td>2.270992</td>\n",
       "    </tr>\n",
       "    <tr>\n",
       "      <th>54</th>\n",
       "      <td>1097612</td>\n",
       "      <td>2.255006</td>\n",
       "    </tr>\n",
       "    <tr>\n",
       "      <th>59</th>\n",
       "      <td>1082072</td>\n",
       "      <td>2.223080</td>\n",
       "    </tr>\n",
       "    <tr>\n",
       "      <th>78</th>\n",
       "      <td>1063422</td>\n",
       "      <td>2.184764</td>\n",
       "    </tr>\n",
       "    <tr>\n",
       "      <th>58</th>\n",
       "      <td>1047569</td>\n",
       "      <td>2.152194</td>\n",
       "    </tr>\n",
       "    <tr>\n",
       "      <th>...</th>\n",
       "      <td>...</td>\n",
       "      <td>...</td>\n",
       "    </tr>\n",
       "    <tr>\n",
       "      <th>17</th>\n",
       "      <td>34086</td>\n",
       "      <td>0.070029</td>\n",
       "    </tr>\n",
       "    <tr>\n",
       "      <th>110</th>\n",
       "      <td>28636</td>\n",
       "      <td>0.058832</td>\n",
       "    </tr>\n",
       "    <tr>\n",
       "      <th>10</th>\n",
       "      <td>18410</td>\n",
       "      <td>0.037823</td>\n",
       "    </tr>\n",
       "    <tr>\n",
       "      <th>16</th>\n",
       "      <td>11702</td>\n",
       "      <td>0.024041</td>\n",
       "    </tr>\n",
       "    <tr>\n",
       "      <th>8</th>\n",
       "      <td>10980</td>\n",
       "      <td>0.022558</td>\n",
       "    </tr>\n",
       "  </tbody>\n",
       "</table>\n",
       "<p>111 rows × 2 columns</p>\n",
       "</div>"
      ],
      "text/plain": [
       "                               count  percentage\n",
       "itcs_numberOfPassengers_max                     \n",
       "68                           1105393    2.270992\n",
       "54                           1097612    2.255006\n",
       "59                           1082072    2.223080\n",
       "78                           1063422    2.184764\n",
       "58                           1047569    2.152194\n",
       "...                              ...         ...\n",
       "17                             34086    0.070029\n",
       "110                            28636    0.058832\n",
       "10                             18410    0.037823\n",
       "16                             11702    0.024041\n",
       "8                              10980    0.022558\n",
       "\n",
       "[111 rows x 2 columns]"
      ]
     },
     "execution_count": 66,
     "metadata": {},
     "output_type": "execute_result"
    }
   ],
   "source": [
    "ZTBus[\"itcs_numberOfPassengers_max\"].value_counts(dropna=False).to_frame(\"count\").assign(\n",
    "    percentage=lambda x: x[\"count\"] / x[\"count\"].sum() * 100\n",
    ")"
   ]
  },
  {
   "cell_type": "code",
   "execution_count": 71,
   "id": "19d8960f-f4b3-4762-92ed-231730f06854",
   "metadata": {},
   "outputs": [],
   "source": [
    "# PCA-based\n",
    "ZTBus_pca, pca_model = condenseMinMaxMean(ZTBus, \"itcs_numberOfPassengers_min\", \n",
    "                                        \"itcs_numberOfPassengers_mean\", \"itcs_numberOfPassengers_max\", \n",
    "                                        method=\"pca\")"
   ]
  },
  {
   "cell_type": "code",
   "execution_count": 72,
   "id": "ad406a96-1bcc-4215-ac0b-0a123f34425a",
   "metadata": {},
   "outputs": [
    {
     "name": "stdout",
     "output_type": "stream",
     "text": [
      "Explained variance ratio: [0.9796998]\n",
      "PCA components: [[0.00389284 0.20196298 0.97938544]]\n"
     ]
    }
   ],
   "source": [
    "print(\"Explained variance ratio:\", pca_model.explained_variance_ratio_)\n",
    "print(\"PCA components:\", pca_model.components_)"
   ]
  },
  {
   "cell_type": "code",
   "execution_count": 76,
   "id": "0053c2d5-01e5-4f15-90ce-cf7afd78f491",
   "metadata": {},
   "outputs": [],
   "source": [
    "# PCA-based\n",
    "ZTBus_pca, pca_model = condenseMinMaxMean(ZTBus, \"temperature_ambient_min\", \n",
    "                                        \"temperature_ambient_mean\", \"temperature_ambient_max\", \n",
    "                                        method=\"pca\")"
   ]
  },
  {
   "cell_type": "code",
   "execution_count": 77,
   "id": "d2dc7548-b616-4c57-8a1e-55a918643532",
   "metadata": {},
   "outputs": [
    {
     "name": "stdout",
     "output_type": "stream",
     "text": [
      "Explained variance ratio: [1.]\n",
      "PCA components: [[0.5158803  0.6644553  0.54070944]]\n"
     ]
    }
   ],
   "source": [
    "print(\"Explained variance ratio:\", pca_model.explained_variance_ratio_)\n",
    "print(\"PCA components:\", pca_model.components_)"
   ]
  },
  {
   "cell_type": "code",
   "execution_count": 79,
   "id": "b78a903d-43ac-4f5e-b7ce-be582b6978e4",
   "metadata": {},
   "outputs": [
    {
     "name": "stdout",
     "output_type": "stream",
     "text": [
      "Explained variance ratio for itcs_numberOfPassengers: 0.9797\n",
      "Component weights: [0.00389284 0.20196298 0.97938544] (min, mean, max order)\n"
     ]
    }
   ],
   "source": [
    "ZTBus = condenseFeatures(ZTBus, \"itcs_numberOfPassengers\")"
   ]
  },
  {
   "cell_type": "code",
   "execution_count": 81,
   "id": "addb209f-55b8-4bd1-b6b2-cf3db0599e47",
   "metadata": {},
   "outputs": [
    {
     "name": "stdout",
     "output_type": "stream",
     "text": [
      "Using MEAN instead of PCA (explained variance = 1.0000)\n"
     ]
    }
   ],
   "source": [
    "ZTBus = condenseFeaturesHighVariance(ZTBus, \n",
    "                       feature_set=[\"temperature_ambient_min\", \n",
    "                                        \"temperature_ambient_mean\", \"temperature_ambient_max\"], \n",
    "                       new_feature_name=\"temperatureCondensed\")"
   ]
  },
  {
   "cell_type": "code",
   "execution_count": 82,
   "id": "b7ac4ed6-1866-489f-8b18-5d8eebfad8dc",
   "metadata": {},
   "outputs": [],
   "source": [
    "#Drop Column due to extremely high missing values\n",
    "\n",
    "ZTBus.drop(columns= ['itcs_busRoute'], inplace = True)"
   ]
  },
  {
   "cell_type": "code",
   "execution_count": 85,
   "id": "1b34b63b-6df6-439e-b1a4-40b6c082620a",
   "metadata": {},
   "outputs": [
    {
     "data": {
      "text/plain": [
       "(48674462, 23)"
      ]
     },
     "execution_count": 85,
     "metadata": {},
     "output_type": "execute_result"
    }
   ],
   "source": [
    "ZTBus.shape"
   ]
  },
  {
   "cell_type": "code",
   "execution_count": null,
   "id": "b8e26067-f430-45ae-8cf5-bce68b5694b5",
   "metadata": {},
   "outputs": [],
   "source": []
  }
 ],
 "metadata": {
  "kernelspec": {
   "display_name": "Python 3 (ipykernel)",
   "language": "python",
   "name": "python3"
  },
  "language_info": {
   "codemirror_mode": {
    "name": "ipython",
    "version": 3
   },
   "file_extension": ".py",
   "mimetype": "text/x-python",
   "name": "python",
   "nbconvert_exporter": "python",
   "pygments_lexer": "ipython3",
   "version": "3.13.5"
  }
 },
 "nbformat": 4,
 "nbformat_minor": 5
}
